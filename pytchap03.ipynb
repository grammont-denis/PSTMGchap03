{
 "cells": [
  {
   "cell_type": "markdown",
   "metadata": {},
   "source": [
    "Interaction n°1\n",
    "Le programme Python ci-contre écrit la liste \"a\" composée de 5 nombres. Compléter le programme pour qu’il n’affiche à l’écran que la troisième valeur."
   ]
  },
  {
   "cell_type": "code",
   "execution_count": null,
   "metadata": {},
   "outputs": [],
   "source": [
    "from math import *\n",
    "a=[2,-5,3.45,6.3,0]\n",
    "print(a)\n",
    "print ###"
   ]
  },
  {
   "cell_type": "markdown",
   "metadata": {},
   "source": [
    "Interaction n°2\n",
    "Modifier ce programme pour qu’il n’affiche que le nombre situé à la position que vous choisirez.\n",
    "Répondre dans un premier temps sur le document écrit puis compléter le programme Python."
   ]
  },
  {
   "cell_type": "code",
   "execution_count": null,
   "metadata": {},
   "outputs": [],
   "source": [
    "from math import *\n",
    "a=[2,-5,3.45,6.3,0]\n",
    "n=###\n",
    "###"
   ]
  },
  {
   "cell_type": "markdown",
   "metadata": {},
   "source": [
    "Interaction n°3\n",
    "Tester ce programme. Expliquer les résultats. Quelle est l’utilité de la commande « len » ?"
   ]
  },
  {
   "cell_type": "code",
   "execution_count": null,
   "metadata": {},
   "outputs": [],
   "source": [
    "from math import *\n",
    "a=[2,-5,3.45,6.3,0]\n",
    "print(a)\n",
    "print(len(a))\n",
    "a=a+[1]\n",
    "print(a)\n",
    "print(len(a))"
   ]
  },
  {
   "cell_type": "markdown",
   "metadata": {},
   "source": [
    "Interaction n°4\n",
    "Compléter le programme pour rajouter 1 au troisième terme de la liste \"a\".\n",
    "Aide : Comment se nomme le nombre à qui on doit rajouter 1 ?"
   ]
  },
  {
   "cell_type": "code",
   "execution_count": null,
   "metadata": {},
   "outputs": [],
   "source": [
    "from math import *\n",
    "a=[2,-5,3.45,6.3,0]\n",
    "### +1\n",
    "print(###)"
   ]
  },
  {
   "cell_type": "markdown",
   "metadata": {},
   "source": [
    "Interaction n°5\n",
    "Tester le programme ci-contre puis modifier le pour qu’il soit complet."
   ]
  },
  {
   "cell_type": "code",
   "execution_count": null,
   "metadata": {},
   "outputs": [],
   "source": [
    "from math import *\n",
    "n=float(input(\"nombre ?\"))\n",
    "for i in range(0,5):\n",
    "    r=n*i\n",
    "    print(i,\"fois\",n,\"=\",r)\n",
    "print(\"cette table est a apprendre :)\")"
   ]
  },
  {
   "cell_type": "markdown",
   "metadata": {},
   "source": [
    "Interaction n°6\n",
    "Le programme calcule les premiers termes de la suite (Un) définie par la formule explicite Un=n² \n",
    "Modifier ce programme pour créer une liste Python U correspondant à la suite mathématique (Un)."
   ]
  },
  {
   "cell_type": "code",
   "execution_count": null,
   "metadata": {},
   "outputs": [],
   "source": [
    "from math import *\n",
    "U=[]\n",
    "for n in range(0,7):\n",
    "    R=n*n\n",
    "    print(R)\n",
    "print(U)"
   ]
  },
  {
   "cell_type": "markdown",
   "metadata": {},
   "source": [
    "Interaction n°7\n",
    "Le programme ci-contre calcule les 5 premiers termes de la suite (Un) définie par la formule de récurrence U(n+1)=0,5 × Un et de terme initial u(0)=10.\n",
    "Ce programme crée aussi la liste Python U correspondant à cette suite mathématique (Un).\n",
    "Remplir le tableau des variables.\n",
    "A quoi correspond la variable S du programme?\n",
    "Modifier le programme pour que la suite comporte les 100 premiers termes.\n",
    "Modifier le programme pour que S « s’adapte » à ce cas."
   ]
  },
  {
   "cell_type": "code",
   "execution_count": null,
   "metadata": {},
   "outputs": [],
   "source": [
    "from math import *\n",
    "U=[10]\n",
    "R=10\n",
    "for n in range(1,5) :\n",
    "    R=0.5*R\n",
    "    U=U+[R]\n",
    "print(U)\n",
    "S=U[0]+U[1]+U[2]+U[3]+U[4]\n",
    "print(S)"
   ]
  }
 ],
 "metadata": {
  "kernelspec": {
   "display_name": "Python 3",
   "language": "python",
   "name": "python3"
  },
  "language_info": {
   "codemirror_mode": {
    "name": "ipython",
    "version": 3
   },
   "file_extension": ".py",
   "mimetype": "text/x-python",
   "name": "python",
   "nbconvert_exporter": "python",
   "pygments_lexer": "ipython3",
   "version": "3.7.6"
  }
 },
 "nbformat": 4,
 "nbformat_minor": 4
}
